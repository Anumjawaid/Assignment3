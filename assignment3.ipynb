{
  "nbformat": 4,
  "nbformat_minor": 0,
  "metadata": {
    "colab": {
      "name": "assignment3.ipynb",
      "provenance": [],
      "authorship_tag": "ABX9TyPDn+NNcmPKCVihzn5C5Uxu",
      "include_colab_link": true
    },
    "kernelspec": {
      "name": "python3",
      "display_name": "Python 3"
    },
    "language_info": {
      "name": "python"
    }
  },
  "cells": [
    {
      "cell_type": "markdown",
      "metadata": {
        "id": "view-in-github",
        "colab_type": "text"
      },
      "source": [
        "<a href=\"https://colab.research.google.com/github/Anumjawaid/Assignment3/blob/main/assignment3.ipynb\" target=\"_parent\"><img src=\"https://colab.research.google.com/assets/colab-badge.svg\" alt=\"Open In Colab\"/></a>"
      ]
    },
    {
      "cell_type": "code",
      "metadata": {
        "id": "8Wuxvh5gVSn6"
      },
      "source": [
        "# 1. Write a Python program to print the following string in a specific format (see the output)."
      ],
      "execution_count": null,
      "outputs": []
    },
    {
      "cell_type": "code",
      "metadata": {
        "colab": {
          "base_uri": "https://localhost:8080/"
        },
        "id": "kmSoSKbZVaOC",
        "outputId": "14f2d890-69ed-4204-b2eb-1578cd6834c1"
      },
      "source": [
        "st=\"\"\"\\n\n",
        "Twinkle, twinkle, little star,\n",
        "         How I wonder what you are!\n",
        "             Up above the world so high,\n",
        "             Like a diamond in the sky.\n",
        " Twinkle, twinkle, little star,\n",
        "         How I wonder what you are\n",
        "\"\"\"\n",
        "print(st)"
      ],
      "execution_count": null,
      "outputs": [
        {
          "output_type": "stream",
          "name": "stdout",
          "text": [
            "\n",
            "\n",
            "Twinkle, twinkle, little star,\n",
            "         How I wonder what you are!\n",
            "             Up above the world so high,\n",
            "             Like a diamond in the sky.\n",
            " Twinkle, twinkle, little star,\n",
            "         How I wonder what you are\n",
            "\n"
          ]
        }
      ]
    },
    {
      "cell_type": "code",
      "metadata": {
        "colab": {
          "base_uri": "https://localhost:8080/"
        },
        "id": "KEiSyuXxV0Yf",
        "outputId": "e983eec1-eda6-470b-d6b4-5d506a4bc971"
      },
      "source": [
        "# 2. Write a Python program to get the Python version you are using\n",
        "import sys\n",
        "print(sys.version)"
      ],
      "execution_count": null,
      "outputs": [
        {
          "output_type": "stream",
          "name": "stdout",
          "text": [
            "3.7.12 (default, Sep 10 2021, 00:21:48) \n",
            "[GCC 7.5.0]\n"
          ]
        }
      ]
    },
    {
      "cell_type": "code",
      "metadata": {
        "colab": {
          "base_uri": "https://localhost:8080/"
        },
        "id": "T3SlEu1YW4kX",
        "outputId": "3d7a9289-04fd-4af4-9c9f-07318bc3da36"
      },
      "source": [
        "# 3. Write a Python program to display the current date and time.\n",
        "import datetime\n",
        "now = datetime.datetime.now()\n",
        "print (\"Current date and time : \")\n",
        "print (now.strftime(\"%Y-%m-%d %H:%M:%S\"))"
      ],
      "execution_count": null,
      "outputs": [
        {
          "output_type": "stream",
          "name": "stdout",
          "text": [
            "Current date and time : \n",
            "2021-10-24 12:55:05\n"
          ]
        }
      ]
    },
    {
      "cell_type": "code",
      "metadata": {
        "colab": {
          "base_uri": "https://localhost:8080/"
        },
        "id": "ahffwN0xXjU8",
        "outputId": "33961f6c-78a2-406f-ac4b-daee6c269e5a"
      },
      "source": [
        "# 4. Write a Python program which accepts the radius of a circle from the user and compute the area.\n",
        "from math import pi\n",
        "r = float(input (\"Input the radius of the circle : \"))\n",
        "print (\"The area of the circle with radius \" + str(r) + \" is: \" + str(pi * r**2))"
      ],
      "execution_count": null,
      "outputs": [
        {
          "output_type": "stream",
          "name": "stdout",
          "text": [
            "Input the radius of the circle : 2.1\n",
            "The area of the circle with radius 2.1 is: 13.854423602330987\n"
          ]
        }
      ]
    },
    {
      "cell_type": "code",
      "metadata": {
        "colab": {
          "base_uri": "https://localhost:8080/"
        },
        "id": "SWuanXNbX4gY",
        "outputId": "cb00646c-3ef0-488d-b721-30f85ca40c91"
      },
      "source": [
        "# 5. Write a Python program which accepts the user's first and last name and print them in reverse order with a space between them.\n",
        "fname = input(\"Input your First Name : \")\n",
        "lname = input(\"Input your Last Name : \")\n",
        "print (\"Hello  \" + lname + \" \" + fname)"
      ],
      "execution_count": null,
      "outputs": [
        {
          "output_type": "stream",
          "name": "stdout",
          "text": [
            "Input your First Name : Anum\n",
            "Input your Last Name : Jawaid\n",
            "Hello  Jawaid Anum\n"
          ]
        }
      ]
    },
    {
      "cell_type": "code",
      "metadata": {
        "colab": {
          "base_uri": "https://localhost:8080/"
        },
        "id": "VP4moghDYM2b",
        "outputId": "15a71736-a68b-43ee-fb44-581eeb165ba8"
      },
      "source": [
        "# 6. Write a python program which takes two inputs from user and print them addition\n",
        "f = int(input(\"Input your First Nunber : \"))\n",
        "l = int(input(\"Input your Last Number : \"))\n",
        "print (f+l)"
      ],
      "execution_count": null,
      "outputs": [
        {
          "output_type": "stream",
          "name": "stdout",
          "text": [
            "Input your First Nunber : 5\n",
            "Input your Last Number : 6\n",
            "11\n"
          ]
        }
      ]
    },
    {
      "cell_type": "code",
      "metadata": {
        "id": "uy8yVwoKYjbh",
        "colab": {
          "base_uri": "https://localhost:8080/"
        },
        "outputId": "4c0f5b83-686d-45e2-a4aa-08519d0364a3"
      },
      "source": [
        "# 7. Write a program which takes 5 inputs from user for different subject’s marks, total it and generate mark sheet using grades ?\n",
        "math=int(input(\"Input your First Nunber : \"))\n",
        "isl=int(input(\"Input your First Nunber : \"))\n",
        "eng=int(input(\"Input your First Nunber : \"))\n",
        "urdu=int(input(\"Input your First Nunber : \"))\n",
        "comp=int(input(\"Input your First Nunber : \"))\n",
        "tm=3500\n",
        "per=((isl+math+eng+urdu+comp)/tm)\n",
        "per=per*100\n",
        "print(per)\n",
        "if per>90:\n",
        "  print(\"gradd e is A\")\n",
        "else:\n",
        "  print(\"grade is not A\")"
      ],
      "execution_count": null,
      "outputs": [
        {
          "output_type": "stream",
          "name": "stdout",
          "text": [
            "Input your First Nunber : 54\n",
            "Input your First Nunber : 45\n",
            "Input your First Nunber : 65\n",
            "Input your First Nunber : 76\n",
            "Input your First Nunber : 87\n",
            "9.342857142857143\n",
            "grade is not A\n"
          ]
        }
      ]
    },
    {
      "cell_type": "code",
      "metadata": {
        "colab": {
          "base_uri": "https://localhost:8080/"
        },
        "id": "NSYBvo_IZTJG",
        "outputId": "c8046fa4-b9cf-4239-81ef-a1b60cfd1b6e"
      },
      "source": [
        "# 8. Write a program which take input from user and identify that the given number is even or odd?\n",
        "num = int(input(\"Enter a number: \"))\n",
        "mod = num % 2\n",
        "if mod > 0:\n",
        "    print(\"This is an odd number.\")\n",
        "else:\n",
        "    print(\"This is an even number.\")"
      ],
      "execution_count": null,
      "outputs": [
        {
          "output_type": "stream",
          "name": "stdout",
          "text": [
            "Enter a number: 6\n",
            "This is an even number.\n"
          ]
        }
      ]
    },
    {
      "cell_type": "code",
      "metadata": {
        "colab": {
          "base_uri": "https://localhost:8080/"
        },
        "id": "d8b_pUnKZvTW",
        "outputId": "2c4cdf1e-49bf-49ac-a9f3-3306ffe85ce8"
      },
      "source": [
        "# 9. Write a program which print the length of the list?\n",
        "a=[1,2,3,4,5]\n",
        "print(len(a))"
      ],
      "execution_count": null,
      "outputs": [
        {
          "output_type": "stream",
          "name": "stdout",
          "text": [
            "5\n"
          ]
        }
      ]
    },
    {
      "cell_type": "code",
      "metadata": {
        "colab": {
          "base_uri": "https://localhost:8080/"
        },
        "id": "woOCLZlSZ5kK",
        "outputId": "1e50d9fa-4a87-4293-b12c-f60942e1b1c1"
      },
      "source": [
        "# 10.Write a Python program to sum all the numeric items in a list?\n",
        "a=[1,2,3,4,5]\n",
        "print(sum(a))"
      ],
      "execution_count": null,
      "outputs": [
        {
          "output_type": "stream",
          "name": "stdout",
          "text": [
            "15\n"
          ]
        }
      ]
    },
    {
      "cell_type": "code",
      "metadata": {
        "colab": {
          "base_uri": "https://localhost:8080/"
        },
        "id": "sFXAdEUFaDft",
        "outputId": "2060d4a7-6a34-4c70-9201-ff4699dce980"
      },
      "source": [
        "# 11.Write a Python program to get the largest number from a numeric list.\n",
        "a=[1,2,3,4,5]\n",
        "print(max(a))"
      ],
      "execution_count": null,
      "outputs": [
        {
          "output_type": "stream",
          "name": "stdout",
          "text": [
            "5\n"
          ]
        }
      ]
    },
    {
      "cell_type": "code",
      "metadata": {
        "colab": {
          "base_uri": "https://localhost:8080/"
        },
        "id": "y0shLdz4aKFY",
        "outputId": "74cfc03b-2ef2-4eaf-e7aa-69a75747a2fb"
      },
      "source": [
        "# 12 Write a program that prints out all the elements of the list that are less than 5.\n",
        "a = [1, 1, 2, 3, 5, 8, 13, 21, 34, 55, 89]\n",
        "for i in a:\n",
        "  if i >5:\n",
        "    print(i)\n",
        "  else:\n",
        "    pass\n"
      ],
      "execution_count": null,
      "outputs": [
        {
          "output_type": "stream",
          "name": "stdout",
          "text": [
            "8\n",
            "13\n",
            "21\n",
            "34\n",
            "55\n",
            "89\n"
          ]
        }
      ]
    },
    {
      "cell_type": "code",
      "metadata": {
        "id": "xRcZ1Xcvalcs"
      },
      "source": [
        ""
      ],
      "execution_count": null,
      "outputs": []
    }
  ]
}